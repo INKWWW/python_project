{
 "cells": [
  {
   "cell_type": "code",
   "execution_count": null,
   "metadata": {},
   "outputs": [],
   "source": []
  },
  {
   "cell_type": "code",
   "execution_count": 2,
   "metadata": {},
   "outputs": [],
   "source": [
    "import pandas as pd\n",
    "import numpy as np"
   ]
  },
  {
   "cell_type": "markdown",
   "metadata": {},
   "source": [
    "#### 1、删除特定列里面含有空值所对应的行"
   ]
  },
  {
   "cell_type": "code",
   "execution_count": 34,
   "metadata": {},
   "outputs": [
    {
     "data": {
      "text/html": [
       "<div>\n",
       "<style scoped>\n",
       "    .dataframe tbody tr th:only-of-type {\n",
       "        vertical-align: middle;\n",
       "    }\n",
       "\n",
       "    .dataframe tbody tr th {\n",
       "        vertical-align: top;\n",
       "    }\n",
       "\n",
       "    .dataframe thead th {\n",
       "        text-align: right;\n",
       "    }\n",
       "</style>\n",
       "<table border=\"1\" class=\"dataframe\">\n",
       "  <thead>\n",
       "    <tr style=\"text-align: right;\">\n",
       "      <th></th>\n",
       "      <th>0</th>\n",
       "      <th>1</th>\n",
       "      <th>2</th>\n",
       "      <th>3</th>\n",
       "      <th>4</th>\n",
       "      <th>5</th>\n",
       "    </tr>\n",
       "  </thead>\n",
       "  <tbody>\n",
       "    <tr>\n",
       "      <th>0</th>\n",
       "      <td>NaN</td>\n",
       "      <td>0.519821</td>\n",
       "      <td>-0.777157</td>\n",
       "      <td>NaN</td>\n",
       "      <td>-0.589549</td>\n",
       "      <td>0.126648</td>\n",
       "    </tr>\n",
       "    <tr>\n",
       "      <th>1</th>\n",
       "      <td>NaN</td>\n",
       "      <td>-2.349895</td>\n",
       "      <td>-1.087744</td>\n",
       "      <td>NaN</td>\n",
       "      <td>0.368297</td>\n",
       "      <td>-0.705414</td>\n",
       "    </tr>\n",
       "    <tr>\n",
       "      <th>2</th>\n",
       "      <td>NaN</td>\n",
       "      <td>0.915442</td>\n",
       "      <td>0.878765</td>\n",
       "      <td>2.724071</td>\n",
       "      <td>0.108964</td>\n",
       "      <td>-3.638358</td>\n",
       "    </tr>\n",
       "    <tr>\n",
       "      <th>3</th>\n",
       "      <td>-0.538772</td>\n",
       "      <td>1.659234</td>\n",
       "      <td>0.978637</td>\n",
       "      <td>NaN</td>\n",
       "      <td>NaN</td>\n",
       "      <td>-1.015911</td>\n",
       "    </tr>\n",
       "    <tr>\n",
       "      <th>4</th>\n",
       "      <td>-1.335032</td>\n",
       "      <td>-0.844248</td>\n",
       "      <td>0.744692</td>\n",
       "      <td>-0.942125</td>\n",
       "      <td>-0.248994</td>\n",
       "      <td>-0.700211</td>\n",
       "    </tr>\n",
       "  </tbody>\n",
       "</table>\n",
       "</div>"
      ],
      "text/plain": [
       "          0         1         2         3         4         5\n",
       "0       NaN  0.519821 -0.777157       NaN -0.589549  0.126648\n",
       "1       NaN -2.349895 -1.087744       NaN  0.368297 -0.705414\n",
       "2       NaN  0.915442  0.878765  2.724071  0.108964 -3.638358\n",
       "3 -0.538772  1.659234  0.978637       NaN       NaN -1.015911\n",
       "4 -1.335032 -0.844248  0.744692 -0.942125 -0.248994 -0.700211"
      ]
     },
     "execution_count": 34,
     "metadata": {},
     "output_type": "execute_result"
    }
   ],
   "source": [
    "df_1 = pd.DataFrame(np.random.randn(5,6))\n",
    "# Make a few areas have NaN values\n",
    "df_1.iloc[0,3] = np.nan\n",
    "df_1.iloc[1,3] = np.nan\n",
    "df_1.iloc[3,3:5] = np.nan\n",
    "df_1.iloc[[0,1,2],0] = np.nan\n",
    "df_1"
   ]
  },
  {
   "cell_type": "code",
   "execution_count": 6,
   "metadata": {},
   "outputs": [
    {
     "data": {
      "text/html": [
       "<div>\n",
       "<style scoped>\n",
       "    .dataframe tbody tr th:only-of-type {\n",
       "        vertical-align: middle;\n",
       "    }\n",
       "\n",
       "    .dataframe tbody tr th {\n",
       "        vertical-align: top;\n",
       "    }\n",
       "\n",
       "    .dataframe thead th {\n",
       "        text-align: right;\n",
       "    }\n",
       "</style>\n",
       "<table border=\"1\" class=\"dataframe\">\n",
       "  <thead>\n",
       "    <tr style=\"text-align: right;\">\n",
       "      <th></th>\n",
       "      <th>0</th>\n",
       "      <th>1</th>\n",
       "      <th>2</th>\n",
       "      <th>3</th>\n",
       "      <th>4</th>\n",
       "      <th>5</th>\n",
       "    </tr>\n",
       "  </thead>\n",
       "  <tbody>\n",
       "    <tr>\n",
       "      <th>2</th>\n",
       "      <td>NaN</td>\n",
       "      <td>1.010643</td>\n",
       "      <td>-0.395361</td>\n",
       "      <td>0.028443</td>\n",
       "      <td>1.571329</td>\n",
       "      <td>-1.838263</td>\n",
       "    </tr>\n",
       "    <tr>\n",
       "      <th>4</th>\n",
       "      <td>-0.222692</td>\n",
       "      <td>-3.409198</td>\n",
       "      <td>-0.042364</td>\n",
       "      <td>0.373714</td>\n",
       "      <td>-0.936786</td>\n",
       "      <td>2.014889</td>\n",
       "    </tr>\n",
       "  </tbody>\n",
       "</table>\n",
       "</div>"
      ],
      "text/plain": [
       "          0         1         2         3         4         5\n",
       "2       NaN  1.010643 -0.395361  0.028443  1.571329 -1.838263\n",
       "4 -0.222692 -3.409198 -0.042364  0.373714 -0.936786  2.014889"
      ]
     },
     "execution_count": 6,
     "metadata": {},
     "output_type": "execute_result"
    }
   ],
   "source": [
    "# 删掉index=3的列中为空值的行\n",
    "df_1_new = df_1.drop(axis=0, index=df_1[df_1.iloc[:, 3].isnull()==True].index.tolist())\n",
    "df_1_new"
   ]
  },
  {
   "cell_type": "code",
   "execution_count": 35,
   "metadata": {},
   "outputs": [
    {
     "data": {
      "text/html": [
       "<div>\n",
       "<style scoped>\n",
       "    .dataframe tbody tr th:only-of-type {\n",
       "        vertical-align: middle;\n",
       "    }\n",
       "\n",
       "    .dataframe tbody tr th {\n",
       "        vertical-align: top;\n",
       "    }\n",
       "\n",
       "    .dataframe thead th {\n",
       "        text-align: right;\n",
       "    }\n",
       "</style>\n",
       "<table border=\"1\" class=\"dataframe\">\n",
       "  <thead>\n",
       "    <tr style=\"text-align: right;\">\n",
       "      <th></th>\n",
       "      <th>0</th>\n",
       "      <th>1</th>\n",
       "      <th>2</th>\n",
       "      <th>3</th>\n",
       "      <th>4</th>\n",
       "      <th>5</th>\n",
       "    </tr>\n",
       "  </thead>\n",
       "  <tbody>\n",
       "    <tr>\n",
       "      <th>4</th>\n",
       "      <td>-1.335032</td>\n",
       "      <td>-0.844248</td>\n",
       "      <td>0.744692</td>\n",
       "      <td>-0.942125</td>\n",
       "      <td>-0.248994</td>\n",
       "      <td>-0.700211</td>\n",
       "    </tr>\n",
       "  </tbody>\n",
       "</table>\n",
       "</div>"
      ],
      "text/plain": [
       "          0         1         2         3         4         5\n",
       "4 -1.335032 -0.844248  0.744692 -0.942125 -0.248994 -0.700211"
      ]
     },
     "execution_count": 35,
     "metadata": {},
     "output_type": "execute_result"
    }
   ],
   "source": [
    "# 删除多列中任意一列有空值对应的行 index=3 和 index=0 的列\n",
    "delete_index = df_1[df_1.iloc[:, 3].isnull()==True].index.tolist() +  df_1[df_1.iloc[:, 0].isnull()==True].index.tolist()\n",
    "df_1_new_1 = df_1.drop(axis=0, index=delete_index)  # index接一个set也是可以的\n",
    "df_1_new_1\n"
   ]
  },
  {
   "cell_type": "code",
   "execution_count": 36,
   "metadata": {},
   "outputs": [
    {
     "data": {
      "text/plain": [
       "{0, 1, 2, 3}"
      ]
     },
     "execution_count": 36,
     "metadata": {},
     "output_type": "execute_result"
    }
   ],
   "source": [
    "l_1 = df_1[df_1.iloc[:, 3].isnull()==True].index.tolist()  +  df_1[df_1.iloc[:, 0].isnull()==True].index.tolist()\n",
    "l_1 = set(l_1)\n",
    "l_1"
   ]
  },
  {
   "cell_type": "code",
   "execution_count": 26,
   "metadata": {},
   "outputs": [
    {
     "data": {
      "text/plain": [
       "[0, 1, 3]"
      ]
     },
     "execution_count": 26,
     "metadata": {},
     "output_type": "execute_result"
    }
   ],
   "source": [
    "df[df.iloc[:,3].isnull()==True].index.tolist()"
   ]
  },
  {
   "cell_type": "code",
   "execution_count": null,
   "metadata": {},
   "outputs": [],
   "source": []
  }
 ],
 "metadata": {
  "kernelspec": {
   "display_name": "Python 3",
   "language": "python",
   "name": "python3"
  },
  "language_info": {
   "codemirror_mode": {
    "name": "ipython",
    "version": 3
   },
   "file_extension": ".py",
   "mimetype": "text/x-python",
   "name": "python",
   "nbconvert_exporter": "python",
   "pygments_lexer": "ipython3",
   "version": "3.6.4"
  }
 },
 "nbformat": 4,
 "nbformat_minor": 2
}
