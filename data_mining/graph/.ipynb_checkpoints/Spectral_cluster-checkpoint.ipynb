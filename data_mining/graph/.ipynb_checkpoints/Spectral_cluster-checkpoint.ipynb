{
 "cells": [
  {
   "cell_type": "code",
   "execution_count": 1,
   "metadata": {},
   "outputs": [],
   "source": [
    "import networkx as nx\n",
    "import numpy as np\n",
    "import matplotlib.pyplot as plt\n",
    "from itertools import combinations\n",
    "from random import random\n",
    "import copy"
   ]
  },
  {
   "cell_type": "code",
   "execution_count": 2,
   "metadata": {},
   "outputs": [],
   "source": [
    "# community class definition\n",
    "class community:\n",
    "    def __init__(self, member, prob):\n",
    "        self.member = member\n",
    "        self.prob = prob"
   ]
  },
  {
   "cell_type": "code",
   "execution_count": 3,
   "metadata": {},
   "outputs": [],
   "source": [
    "# AGM 用于生成网络的一种模型\n",
    "def AGM(nodes, communities):\n",
    "    # create an empty graph\n",
    "    G = nx.Graph()\n",
    "    # add nodes to this graph\n",
    "    G.add_nodes_from(nodes)\n",
    "    \n",
    "    # generate links within comminities\n",
    "    for c in communities:\n",
    "        for nodePairs in combinations(c.member, 2):\n",
    "            if random() <= c.prob:\n",
    "                G.add_edge(nodePairs[0], nodePairs[1])\n",
    "    return G"
   ]
  },
  {
   "cell_type": "code",
   "execution_count": 19,
   "metadata": {},
   "outputs": [],
   "source": [
    "nodes = range(6)\n",
    "communities = [community([0,1,2], 1),\n",
    "              community([3,4,5], 1),\n",
    "              community([0,5], 1),\n",
    "              community([2,3], 1)]"
   ]
  },
  {
   "cell_type": "code",
   "execution_count": 20,
   "metadata": {},
   "outputs": [
    {
     "data": {
      "image/png": "[encoded data removed]",
      "text/plain": [
       "<matplotlib.figure.Figure at 0x2d0e26114e0>"
      ]
     },
     "metadata": {},
     "output_type": "display_data"
    }
   ],
   "source": [
    "G = AGM(nodes, communities)\n",
    "nx.draw(G, with_labels=True)"
   ]
  },
  {
   "cell_type": "code",
   "execution_count": 21,
   "metadata": {},
   "outputs": [
    {
     "data": {
      "text/plain": [
       "EdgeView([(0, 1), (0, 2), (0, 5), (1, 2), (2, 3), (3, 4), (3, 5), (4, 5)])"
      ]
     },
     "execution_count": 21,
     "metadata": {},
     "output_type": "execute_result"
    }
   ],
   "source": [
    "G.edges()"
   ]
  },
  {
   "cell_type": "code",
   "execution_count": 105,
   "metadata": {},
   "outputs": [
    {
     "data": {
      "text/plain": [
       "[0, 1, 2, 3, 4, 5]"
      ]
     },
     "execution_count": 105,
     "metadata": {},
     "output_type": "execute_result"
    }
   ],
   "source": [
    "list(G.nodes())"
   ]
  },
  {
   "cell_type": "code",
   "execution_count": 93,
   "metadata": {},
   "outputs": [
    {
     "name": "stdout",
     "output_type": "stream",
     "text": [
      "(0, 3)\n",
      "(1, 2)\n",
      "(2, 3)\n",
      "(3, 3)\n",
      "(4, 2)\n",
      "(5, 3)\n"
     ]
    }
   ],
   "source": [
    "for node in G.degree():\n",
    "    print(node)"
   ]
  },
  {
   "cell_type": "code",
   "execution_count": 64,
   "metadata": {},
   "outputs": [
    {
     "name": "stdout",
     "output_type": "stream",
     "text": [
      "item:  (0, 1)\n",
      "0\n",
      "<class 'int'>\n",
      "item:  (0, 2)\n",
      "0\n",
      "<class 'int'>\n",
      "item:  (0, 5)\n",
      "0\n",
      "<class 'int'>\n",
      "item:  (1, 2)\n",
      "1\n",
      "<class 'int'>\n",
      "item:  (2, 3)\n",
      "2\n",
      "<class 'int'>\n",
      "item:  (3, 4)\n",
      "3\n",
      "<class 'int'>\n",
      "item:  (3, 5)\n",
      "3\n",
      "<class 'int'>\n",
      "item:  (4, 5)\n",
      "4\n",
      "<class 'int'>\n"
     ]
    }
   ],
   "source": [
    "for item in G.edges():\n",
    "    print('item: ', item)\n",
    "    print(item[0])\n",
    "    print(type(item[0]))"
   ]
  },
  {
   "cell_type": "code",
   "execution_count": 71,
   "metadata": {},
   "outputs": [
    {
     "data": {
      "text/plain": [
       "3"
      ]
     },
     "execution_count": 71,
     "metadata": {},
     "output_type": "execute_result"
    }
   ],
   "source": [
    "len([i for i in G.neighbors(0)])"
   ]
  },
  {
   "cell_type": "code",
   "execution_count": 67,
   "metadata": {},
   "outputs": [
    {
     "name": "stdout",
     "output_type": "stream",
     "text": [
      "1\n",
      "2\n",
      "5\n"
     ]
    }
   ],
   "source": [
    "for i in G.neighbors(0):\n",
    "    print(i)"
   ]
  },
  {
   "cell_type": "code",
   "execution_count": 22,
   "metadata": {},
   "outputs": [
    {
     "name": "stdout",
     "output_type": "stream",
     "text": [
      "(0, 1)\n",
      "2\n",
      "(0, 2)\n",
      "2\n",
      "(0, 5)\n",
      "2\n",
      "(1, 2)\n",
      "2\n",
      "(2, 3)\n",
      "2\n",
      "(3, 4)\n",
      "2\n",
      "(3, 5)\n",
      "2\n",
      "(4, 5)\n",
      "2\n"
     ]
    }
   ],
   "source": [
    "# intersections - 相交点\n",
    "for edge in G.edges():\n",
    "    print(edge)\n",
    "    print(len(set(edge).intersection(set(nodes))))"
   ]
  },
  {
   "cell_type": "code",
   "execution_count": 23,
   "metadata": {},
   "outputs": [
    {
     "name": "stdout",
     "output_type": "stream",
     "text": [
      "0\n"
     ]
    }
   ],
   "source": [
    "print(len(set((0,1)).intersection(set((4,5)))))"
   ]
  },
  {
   "cell_type": "code",
   "execution_count": 33,
   "metadata": {},
   "outputs": [
    {
     "name": "stdout",
     "output_type": "stream",
     "text": [
      "1\n"
     ]
    }
   ],
   "source": [
    "print(len(set((2,3)).intersection(set((0,1,2)))))"
   ]
  },
  {
   "cell_type": "code",
   "execution_count": null,
   "metadata": {},
   "outputs": [],
   "source": []
  },
  {
   "cell_type": "code",
   "execution_count": 25,
   "metadata": {},
   "outputs": [],
   "source": [
    "# 假设现在有一个聚集A，包括三个节点[0,1,2]，计算该聚集的cut指标：\n",
    "# cluster measures\n",
    "class cluster:\n",
    "    def __init__(self, member, cut=None):\n",
    "        self.member = member\n",
    "        self.cut = cut"
   ]
  },
  {
   "cell_type": "code",
   "execution_count": 52,
   "metadata": {},
   "outputs": [],
   "source": [
    "# graph - 图；nodes - 聚集节点\n",
    "def clusterCutScore(graph, nodes):\n",
    "    cutScore = 0 \n",
    "    for edge in graph.edges():\n",
    "        if len(set(edge).intersection(set(nodes))) == 1:\n",
    "            print(edge)\n",
    "            cutScore += 1\n",
    "            print('cutScore: ', cutScore)\n",
    "    return cutScore"
   ]
  },
  {
   "cell_type": "code",
   "execution_count": 53,
   "metadata": {},
   "outputs": [
    {
     "name": "stdout",
     "output_type": "stream",
     "text": [
      "(0, 5)\n",
      "cutScore:  1\n",
      "(2, 3)\n",
      "cutScore:  2\n",
      "2\n"
     ]
    }
   ],
   "source": [
    "clusterA = cluster([0,1,2], clusterCutScore(G, [0,1,2]))\n",
    "print(clusterA.cut)"
   ]
  },
  {
   "cell_type": "code",
   "execution_count": 55,
   "metadata": {},
   "outputs": [],
   "source": [
    "# Cut值并不是一个非常好的指标，如果包含度为1的节点，\n",
    "# 那么仅仅由节点一个节点构成的聚类，Cut值为1\n",
    "# 所以有了如下修改"
   ]
  },
  {
   "cell_type": "code",
   "execution_count": 79,
   "metadata": {},
   "outputs": [],
   "source": [
    "# 假设现在有一个聚集A，包括三个节点[0,1,2]，计算该聚集的conductance指标：\n",
    "# conductance: phi(A)=fractextcut(A)min(vol(A),2m−vol(A)) -- 越低越好，防止出现划分单个节点\n",
    "\n",
    "class cluster:\n",
    "    def __init__(self, member, cut=None, conductance=None):\n",
    "        self.member = member\n",
    "        self.cut = cut\n",
    "        self.conductance = conductance"
   ]
  },
  {
   "cell_type": "code",
   "execution_count": 91,
   "metadata": {},
   "outputs": [],
   "source": [
    "def clusterConductanceScore(graph, nodes):\n",
    "    m = graph.number_of_edges()\n",
    "#     以下一条错误\n",
    "#     volA = sum([len([i for i in (graph.neighbors(node) for node in nodes)])])\n",
    "    volA = 0\n",
    "    for node in nodes:\n",
    "        print('node: ', node)\n",
    "        volA += len([i for i in (graph.neighbors(node))])\n",
    "        print('volA: ', volA)\n",
    "    cut = clusterCutScore(graph, nodes)\n",
    "    return float(cut)/min(volA, 2*m-volA)"
   ]
  },
  {
   "cell_type": "code",
   "execution_count": 92,
   "metadata": {},
   "outputs": [
    {
     "name": "stdout",
     "output_type": "stream",
     "text": [
      "(0, 5)\n",
      "cutScore:  1\n",
      "(2, 3)\n",
      "cutScore:  2\n",
      "node:  0\n",
      "volA:  3\n",
      "node:  1\n",
      "volA:  5\n",
      "node:  2\n",
      "volA:  8\n",
      "(0, 5)\n",
      "cutScore:  1\n",
      "(2, 3)\n",
      "cutScore:  2\n",
      "clusterA.conductance: 0.25\n"
     ]
    }
   ],
   "source": [
    "nodes = [0,1,2]\n",
    "clusterA = cluster(nodes, clusterCutScore(G, nodes), clusterConductanceScore(G, nodes))\n",
    "print('clusterA.conductance:',clusterA.conductance)"
   ]
  },
  {
   "cell_type": "code",
   "execution_count": 94,
   "metadata": {},
   "outputs": [],
   "source": [
    "# define Laplace Matrix - 网络的度矩阵 和 网络的邻接矩阵 之差\n",
    "def laplacianOfGraph(graph):\n",
    "    n = graph.number_of_nodes()\n",
    "    A = nx.to_numpy_matrix(graph)  # adjacency matrix\n",
    "    D = np.matrix(np.zeros((n,n)))  # degree matrix\n",
    "    for node_degree in graph.degree():\n",
    "        node, degree = node_degree\n",
    "        D[node, node] = degree\n",
    "    L = D - A\n",
    "    return L"
   ]
  },
  {
   "cell_type": "code",
   "execution_count": 95,
   "metadata": {},
   "outputs": [
    {
     "name": "stdout",
     "output_type": "stream",
     "text": [
      "[[ 3. -1. -1.  0.  0. -1.]\n",
      " [-1.  2. -1.  0.  0.  0.]\n",
      " [-1. -1.  3. -1.  0.  0.]\n",
      " [ 0.  0. -1.  3. -1. -1.]\n",
      " [ 0.  0.  0. -1.  2. -1.]\n",
      " [-1.  0.  0. -1. -1.  3.]]\n"
     ]
    }
   ],
   "source": [
    "print(laplacianOfGraph(G))"
   ]
  },
  {
   "cell_type": "code",
   "execution_count": 108,
   "metadata": {},
   "outputs": [],
   "source": [
    "def naiveSpectralClustering(graph):\n",
    "    L = laplacianOfGraph(graph)\n",
    "    evals, evecs = np.linalg.eig(L)  # eigenvalue, eigenvector\n",
    "    values = np.array(evecs[:, 1]).reshape(-1).tolist()\n",
    "    n = len(values)\n",
    "    cluster1 = [i for i in range(n) if values[i] <= 0]\n",
    "    cluster2 = [i for i in range(n) if values[i] > 0]\n",
    "    return cluster1, cluster2"
   ]
  },
  {
   "cell_type": "code",
   "execution_count": 109,
   "metadata": {},
   "outputs": [],
   "source": [
    "c1, c2 = naiveSpectralClustering(G)"
   ]
  },
  {
   "cell_type": "code",
   "execution_count": 110,
   "metadata": {},
   "outputs": [
    {
     "name": "stdout",
     "output_type": "stream",
     "text": [
      "[0, 1, 2]\n"
     ]
    }
   ],
   "source": [
    "print(c1)"
   ]
  },
  {
   "cell_type": "code",
   "execution_count": 111,
   "metadata": {},
   "outputs": [
    {
     "name": "stdout",
     "output_type": "stream",
     "text": [
      "[3, 4, 5]\n"
     ]
    }
   ],
   "source": [
    "print(c2)"
   ]
  },
  {
   "cell_type": "code",
   "execution_count": null,
   "metadata": {},
   "outputs": [],
   "source": []
  }
 ],
 "metadata": {
  "kernelspec": {
   "display_name": "Python 3",
   "language": "python",
   "name": "python3"
  },
  "language_info": {
   "codemirror_mode": {
    "name": "ipython",
    "version": 3
   },
   "file_extension": ".py",
   "mimetype": "text/x-python",
   "name": "python",
   "nbconvert_exporter": "python",
   "pygments_lexer": "ipython3",
   "version": "3.6.4"
  }
 },
 "nbformat": 4,
 "nbformat_minor": 2
}
